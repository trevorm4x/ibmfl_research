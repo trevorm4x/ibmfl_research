{
 "cells": [
  {
   "cell_type": "markdown",
   "metadata": {},
   "source": [
    "## Dashboard\n",
    "\n",
    "In this Notebook, we interact with the Experiment Manager to configure, setup and run experiments."
   ]
  },
  {
   "cell_type": "markdown",
   "metadata": {},
   "source": [
    "### Import dependencies, initialise configs"
   ]
  },
  {
   "cell_type": "code",
   "execution_count": 1,
   "metadata": {
    "code_folding": [
     0
    ]
   },
   "outputs": [],
   "source": [
    "import sys\n",
    "sys.path.append('../')\n",
    "%config Completer.use_jedi = False # to avoid autocomplete errors in Jupyter server\n",
    "from ipywidgets import GridspecLayout, GridBox, Layout, Output\n",
    "import dashboard_ui\n",
    "\n",
    "dashboard_ui = dashboard_ui.DashboardUI()"
   ]
  },
  {
   "cell_type": "markdown",
   "metadata": {},
   "source": [
    "### Choose Model, Dataset and Fusion Algorithm"
   ]
  },
  {
   "cell_type": "markdown",
   "metadata": {},
   "source": [
    "#### Provide Data Handler\n",
    "- Only if you wish to use a Custom Dataset\n",
    "- Choose Yes in the `Custom Dataset?` option below\n",
    "\n",
    "Populate and then run the cell below to save the provided Data Handler class to file."
   ]
  },
  {
   "cell_type": "code",
   "execution_count": 2,
   "metadata": {},
   "outputs": [],
   "source": [
    "%load_ext autoreload\n",
    "%autoreload 2"
   ]
  },
  {
   "cell_type": "code",
   "execution_count": 3,
   "metadata": {
    "code_folding": [
     0
    ]
   },
   "outputs": [
    {
     "name": "stdout",
     "output_type": "stream",
     "text": [
      "Overwriting custom_data_handler.py\n"
     ]
    }
   ],
   "source": [
    "%%writefile custom_data_handler.py\n",
    "### YOUR DATAHANDLER code goes below\n",
    "\n",
    "import logging\n",
    "\n",
    "import numpy as np\n",
    "\n",
    "from ibmfl.data.data_handler import DataHandler\n",
    "from ibmfl.util.datasets import load_mnist\n",
    "\n",
    "logger = logging.getLogger(__name__)\n",
    "\n",
    "\n",
    "class MnistKerasDataHandler(DataHandler):\n",
    "    \"\"\"\n",
    "    Data handler for MNIST dataset.\n",
    "    \"\"\"\n",
    "\n",
    "    def __init__(self, data_config=None, channels_first=False):\n",
    "        super().__init__()\n",
    "\n",
    "        self.file_name = None\n",
    "        if data_config is not None:\n",
    "            # Ensure your data files are either npz or csv\n",
    "            if 'npz_file' in data_config:\n",
    "                self.file_name = data_config['npz_file']\n",
    "            elif 'txt_file' in data_config:\n",
    "                self.file_name = data_config['txt_file']\n",
    "        self.channels_first = channels_first\n",
    "\n",
    "        # load the datasets\n",
    "        (self.x_train, self.y_train), (self.x_test, self.y_test) = self.load_dataset()\n",
    "\n",
    "        # pre-process the datasets\n",
    "        self.preprocess()\n",
    "\n",
    "    def get_data(self):\n",
    "        \"\"\"\n",
    "        Gets pre-process mnist training and testing data.\n",
    "\n",
    "        :return: the training and testing data.\n",
    "        :rtype: `tuple`\n",
    "        \"\"\"\n",
    "        return (self.x_train, self.y_train), (self.x_test, self.y_test)\n",
    "\n",
    "    def load_dataset(self, nb_points=500):\n",
    "        \"\"\"\n",
    "        Loads the training and testing datasets from a given local path. \\\n",
    "        If no local path is provided, it will download the original MNIST \\\n",
    "        dataset online, and reduce the dataset size to contain \\\n",
    "        500 data points per training and testing dataset. \\\n",
    "        Because this method \\\n",
    "        is for testing it takes as input the number of datapoints, nb_points, \\\n",
    "        to be included in the training and testing set.\n",
    "\n",
    "        :param nb_points: Number of data points to be included in each set if\n",
    "        no local dataset is provided.\n",
    "        :type nb_points: `int`\n",
    "        :return: training and testing datasets\n",
    "        :rtype: `tuple`\n",
    "        \"\"\"\n",
    "        if self.file_name is None:\n",
    "            (x_train, y_train), (x_test, y_test) = load_mnist()\n",
    "            # Reduce datapoints to make test faster\n",
    "            x_train = x_train[:nb_points]\n",
    "            y_train = y_train[:nb_points]\n",
    "            x_test = x_test[:nb_points]\n",
    "            y_test = y_test[:nb_points]\n",
    "        else:\n",
    "            try:\n",
    "                logger.info('Loaded training data from ' + str(self.file_name))\n",
    "                data_train = np.load(self.file_name)\n",
    "                x_train = data_train['x_train']\n",
    "                y_train = data_train['y_train']\n",
    "                x_test = data_train['x_test']\n",
    "                y_test = data_train['y_test']\n",
    "            except Exception:\n",
    "                raise IOError('Unable to load training data from path '\n",
    "                              'provided in config file: ' +\n",
    "                              self.file_name)\n",
    "        return (x_train, y_train), (x_test, y_test)\n",
    "\n",
    "    def preprocess(self):\n",
    "        \"\"\"\n",
    "        Preprocesses the training and testing dataset, \\\n",
    "        e.g., reshape the images according to self.channels_first; \\\n",
    "        convert the labels to binary class matrices.\n",
    "\n",
    "        :return: None\n",
    "        \"\"\"\n",
    "        num_classes = 10\n",
    "        img_rows, img_cols = 28, 28\n",
    "\n",
    "        if self.channels_first:\n",
    "            self.x_train = self.x_train.reshape(self.x_train.shape[0], 1, img_rows, img_cols)\n",
    "            self.x_test = self.x_test.reshape(self.x_test.shape[0], 1, img_rows, img_cols)\n",
    "        else:\n",
    "            self.x_train = self.x_train.reshape(self.x_train.shape[0], img_rows, img_cols, 1)\n",
    "            self.x_test = self.x_test.reshape(self.x_test.shape[0], img_rows, img_cols, 1)\n",
    "\n",
    "        # convert class vectors to binary class matrices\n",
    "        self.y_train = np.eye(num_classes)[self.y_train]\n",
    "        self.y_test = np.eye(num_classes)[self.y_test]"
   ]
  },
  {
   "cell_type": "code",
   "execution_count": 4,
   "metadata": {
    "code_folding": [
     0
    ],
    "scrolled": false
   },
   "outputs": [
    {
     "data": {
      "application/vnd.jupyter.widget-view+json": {
       "model_id": "dc159d9753f3449b860ae283e84a5902",
       "version_major": 2,
       "version_minor": 0
      },
      "text/plain": [
       "GridspecLayout(children=(GridBox(children=(HTML(value='<h4>Model details', layout=Layout(grid_area='model_head…"
      ]
     },
     "metadata": {},
     "output_type": "display_data"
    }
   ],
   "source": [
    "## Model, Dataset and Fusion Algorithm\n",
    "\n",
    "components = dashboard_ui.generate_model_dataset_fusion_ui()\n",
    "\n",
    "# GridBox layout for UI\n",
    "grid = GridspecLayout(2,2)\n",
    "\n",
    "grid[0,:] = GridBox(children=list(components[:-4]),\n",
    "                    layout=Layout(\n",
    "                        width='100%',\n",
    "                        grid_template_rows='auto auto',\n",
    "                        grid_template_columns='48% 48%',\n",
    "                        grid_template_areas='''\n",
    "                        \"model_header model_header\"\n",
    "                        \"model_dr model_upload\"\n",
    "                        \"dataset_header dataset_header\"\n",
    "                        \"dataset dataset_spl\"\n",
    "                        \"ppp ppp\"\n",
    "                        '''\n",
    "#                         ,border='0.5px solid black'\n",
    "                    ))\n",
    "\n",
    "grid[1,:] = GridBox(children=list(components[-4:]),\n",
    "                    layout=Layout(\n",
    "                        height='150px',\n",
    "                        width='100%',\n",
    "                        grid_template_rows='auto auto',\n",
    "                        grid_template_columns='48% 48%',\n",
    "                        grid_gap = '0px 0px',\n",
    "                        grid_template_areas='''\n",
    "                        \"custom_data  custom_data_html\"\n",
    "                        \"fusion_dr metrics_choice\"\n",
    "                        '''\n",
    "#                         , border='0.5px solid black'\n",
    "                    ))\n",
    "# grid[2,:] = GridBox(children=list(components[-1:]),\n",
    "#                     layout=Layout(\n",
    "#                         height='55px',\n",
    "#                         width='auto',\n",
    "#                         grid_template_rows='100%',\n",
    "#                         grid_template_columns='100%',\n",
    "#                         grid_template_areas='''\n",
    "#                         \"fusion_dr\"\n",
    "#                         ''',\n",
    "#                         border='0.5px solid black'\n",
    "#                     ))\n",
    "grid"
   ]
  },
  {
   "cell_type": "markdown",
   "metadata": {},
   "source": [
    "### Choose number of parties and hyperparameters\n",
    "Ensure you click `Confirm Hyperparameters` when done!"
   ]
  },
  {
   "cell_type": "code",
   "execution_count": 5,
   "metadata": {
    "code_folding": [
     0
    ],
    "scrolled": false
   },
   "outputs": [
    {
     "data": {
      "application/vnd.jupyter.widget-view+json": {
       "model_id": "53d16c10c9ed48baaf90c7cf0d69ff94",
       "version_major": 2,
       "version_minor": 0
      },
      "text/plain": [
       "Output()"
      ]
     },
     "metadata": {},
     "output_type": "display_data"
    }
   ],
   "source": [
    "## Parties and Hyperparameters\n",
    "\n",
    "components = list(dashboard_ui.generate_parties_hyperparams_ui())\n",
    "\n",
    "# GridBox layout for UI\n",
    "grid = GridspecLayout(2,3)\n",
    "\n",
    "grid[0,:] = GridBox(children=components[:-2],\n",
    "       layout = Layout(\n",
    "           width='100%',\n",
    "           grid_template_rows='auto auto',\n",
    "           grid_template_columns='48% 48%',\n",
    "           grid_template_areas='''\n",
    "           \"header_parties header_parties\"\n",
    "           \"parties parties\"\n",
    "           \"header_hyperparams header_hyperparams\"\n",
    "            ''')\n",
    "       )\n",
    "# Nested grid to vary spacing across various widgets\n",
    "sub_grid_hyperparams = GridspecLayout(2,3)\n",
    "sub_grid_hyperparams[0,:] = components[-1]\n",
    "sub_grid_hyperparams[1,1] = components[-2]\n",
    "\n",
    "grid[1, :] = sub_grid_hyperparams\n",
    "party_hyperparam_ui = Output()\n",
    "\n",
    "with party_hyperparam_ui:\n",
    "    display(grid)\n",
    "party_hyperparam_ui"
   ]
  },
  {
   "cell_type": "markdown",
   "metadata": {},
   "source": [
    "#### Provide Party specific data files\n",
    "\n",
    "- Only if you wish to use a Custom Dataset\n",
    "- Chose Yes in the `Custom Dataset?` option in Step 1.2 above"
   ]
  },
  {
   "cell_type": "code",
   "execution_count": 7,
   "metadata": {
    "code_folding": [
     0
    ]
   },
   "outputs": [],
   "source": [
    "## Upload party data files for each party:\n",
    "if 'custom_data' in dashboard_ui.mgr.nb_config:\n",
    "    upload_boxes = dashboard_ui.generate_custom_party_data_ui()\n",
    "    for each in upload_boxes:\n",
    "        display(each)"
   ]
  },
  {
   "cell_type": "markdown",
   "metadata": {},
   "source": [
    "### Choose whether to run locally or on remote machines"
   ]
  },
  {
   "cell_type": "code",
   "execution_count": 8,
   "metadata": {},
   "outputs": [
    {
     "name": "stdout",
     "output_type": "stream",
     "text": [
      "{'machines': {'venv_uses_conda': False, 'venv_dir': '/home/trevormaxjs/Documents/Engineering/Research/venv', 'machine1': {'ip_address': '127.0.0.1', 'port_number': '5000', 'ssh_username': 'trevormaxjs', 'staging_dir': '/home/trevormaxjs/Documents/Engineering/Research/', 'ibmfl_dir': '/home/trevormaxjs/Documents/Engineering/Research/ibmfl'}, 'machine2': {'ip_address': '192.168.1.167', 'port_number': '8102', 'ssh_username': 'trevormaxjs', 'staging_dir': '/home/trevormaxjs/Documents/ibmfl', 'ibmfl_dir': '/home/trevormaxjs/Documents/ibmfl/ibmfl'}, 'machine3': {'ip_address': '192.168.1.167', 'port_number': '8103', 'ssh_username': 'trevormaxjs', 'staging_dir': '/home/trevormaxjs/Documents/ibmfl/', 'ibmfl_dir': '/home/trevormaxjs/Documents/ibmfl/ibmfl'}}, 'experiments': [{'agg_machine': 'machine1', 'local_staging_dir': '/home/trevormaxjs/Documents/Engineering/Research/'}], 'isLocalRun': False}\n"
     ]
    }
   ],
   "source": [
    "print({\n",
    "    \"machines\": {\n",
    "        \"venv_uses_conda\": False,\n",
    "        \"venv_dir\": \"/home/trevormaxjs/Documents/Engineering/Research/venv\",\n",
    "        \"machine1\": {\n",
    "            \"ip_address\": \"127.0.0.1\",\n",
    "            \"port_number\": \"5000\",\n",
    "            \"ssh_username\": \"trevormaxjs\",\n",
    "            \"staging_dir\": \"/home/trevormaxjs/Documents/Engineering/Research/\",\n",
    "            \"ibmfl_dir\": \"/home/trevormaxjs/Documents/Engineering/Research/ibmfl\"\n",
    "        },\n",
    "        \"machine2\": {\n",
    "            \"ip_address\": \"192.168.1.167\",\n",
    "            \"port_number\": \"8102\",\n",
    "            \"ssh_username\": \"trevormaxjs\",\n",
    "            \"staging_dir\": \"/home/trevormaxjs/Documents/ibmfl\",\n",
    "            \"ibmfl_dir\": \"/home/trevormaxjs/Documents/ibmfl/ibmfl\"\n",
    "        },\n",
    "        \"machine3\": {\n",
    "            \"ip_address\": \"192.168.1.167\",\n",
    "            \"port_number\": \"8103\",\n",
    "            \"ssh_username\": \"trevormaxjs\",\n",
    "            \"staging_dir\": \"/home/trevormaxjs/Documents/ibmfl/\",\n",
    "            \"ibmfl_dir\": \"/home/trevormaxjs/Documents/ibmfl/ibmfl\"\n",
    "        }\n",
    "    },\n",
    "    \"experiments\": [{\n",
    "    \"agg_machine\": \"machine1\",\n",
    "    \"local_staging_dir\": \"/home/trevormaxjs/Documents/Engineering/Research/\",\n",
    "}],\n",
    "    \"isLocalRun\": False\n",
    "})"
   ]
  },
  {
   "cell_type": "code",
   "execution_count": 6,
   "metadata": {
    "code_folding": [
     0
    ],
    "scrolled": false
   },
   "outputs": [
    {
     "data": {
      "application/vnd.jupyter.widget-view+json": {
       "model_id": "ede73433f6984e0cb6539bdb089a0507",
       "version_major": 2,
       "version_minor": 0
      },
      "text/plain": [
       "Box(children=(HTML(value='<h4>Run this experiment locally or on remote machines?', layout=Layout(width='auto')…"
      ]
     },
     "metadata": {},
     "output_type": "display_data"
    },
    {
     "data": {
      "application/vnd.jupyter.widget-view+json": {
       "model_id": "f8754ab4329d4aa195c395554cf444ac",
       "version_major": 2,
       "version_minor": 0
      },
      "text/plain": [
       "GridspecLayout(children=(VBox(layout=Layout(grid_area='widget001')),), layout=Layout(grid_template_areas='\"wid…"
      ]
     },
     "metadata": {},
     "output_type": "display_data"
    },
    {
     "name": "stdout",
     "output_type": "stream",
     "text": [
      "Incorrect JSON passed for remote details, check and retry!\n",
      "Incorrect JSON passed for remote details, check and retry!\n",
      "Incorrect JSON passed for remote details, check and retry!\n",
      "Incorrect JSON passed for remote details, check and retry!\n",
      "Incorrect JSON passed for remote details, check and retry!\n",
      "Incorrect JSON passed for remote details, check and retry!\n",
      "Incorrect JSON passed for remote details, check and retry!\n",
      "Incorrect JSON passed for remote details, check and retry!\n"
     ]
    }
   ],
   "source": [
    "## Local or Remote run\n",
    "\n",
    "components = dashboard_ui.generate_local_remote_ui()\n",
    "# grid for displaying networking fields -- IP addr, port, ssh user, paths\n",
    "partyDetails_grid = GridspecLayout(1,3)\n",
    "partyDetails_grid[0, :] = components[1] # networking_deets_box \n",
    "\n",
    "display(components[0])\n",
    "partyDetails_grid"
   ]
  },
  {
   "cell_type": "markdown",
   "metadata": {},
   "source": [
    "### Generate and View Aggregator and Party Config"
   ]
  },
  {
   "cell_type": "code",
   "execution_count": 7,
   "metadata": {
    "code_folding": [
     0
    ]
   },
   "outputs": [
    {
     "name": "stdout",
     "output_type": "stream",
     "text": [
      "Generating Data...\n",
      "Data files saved to: /home/trevormaxjs/Documents/Engineering/Research//20230422T183302/data/mnist/random\n",
      "Generating Configs...\n",
      "Aggregator configs saved to: /home/trevormaxjs/Documents/Engineering/Research/20230422T183302/configs/coordinate_median/keras/config_agg.yml\n",
      "Party configs saved to: /home/trevormaxjs/Documents/Engineering/Research/20230422T183302/configs/coordinate_median/keras/config_party*.yml\n",
      "Updated Aggregator config at /home/trevormaxjs/Documents/Engineering/Research/20230422T183302/configs/coordinate_median/keras/config_agg.yml\n",
      "Updated Party configs at /home/trevormaxjs/Documents/Engineering/Research/20230422T183302/configs/coordinate_median/keras/config_party*.yml\n"
     ]
    },
    {
     "data": {
      "application/vnd.jupyter.widget-view+json": {
       "model_id": "e351fd1a7f22449892bb49d0fbcf6c76",
       "version_major": 2,
       "version_minor": 0
      },
      "text/plain": [
       "GridspecLayout(children=(VBox(children=(HTML(value='<h4>Configs Generated:', layout=Layout(width='auto')), HBo…"
      ]
     },
     "metadata": {},
     "output_type": "display_data"
    }
   ],
   "source": [
    "## Generate Configs and Display them\n",
    "\n",
    "components = dashboard_ui.generate_display_configs_ui()\n",
    "\n",
    "# grid for displaying generated configurations\n",
    "display_grid_1 = GridspecLayout(1,3)\n",
    "display_grid_1[0, :] = components[1] # config_box\n",
    "\n",
    "display_grid_1"
   ]
  },
  {
   "cell_type": "markdown",
   "metadata": {},
   "source": [
    "### Run the Experiment and Visualise Metrics\n",
    "If the configs above look alright, go ahead and run the cell below to run the experiment!"
   ]
  },
  {
   "cell_type": "code",
   "execution_count": null,
   "metadata": {
    "code_folding": [
     0
    ],
    "scrolled": false
   },
   "outputs": [
    {
     "data": {
      "application/vnd.jupyter.widget-view+json": {
       "model_id": "0fb8ce94deeb46c58a98467e2b61d693",
       "version_major": 2,
       "version_minor": 0
      },
      "text/plain": [
       "GridspecLayout(children=(VBox(children=(Output(layout=Layout(border='0.5px solid black')),), layout=Layout(gri…"
      ]
     },
     "metadata": {},
     "output_type": "display_data"
    }
   ],
   "source": [
    "## Run the experiment and see charts\n",
    "\n",
    "import ibmfl_cli_automator.run as ibmfl_runner\n",
    "from ipywidgets import Button, VBox, Output\n",
    "\n",
    "exp_runner = ibmfl_runner.Runner()\n",
    "\n",
    "monitoring_box = VBox()\n",
    "\n",
    "no_plots_for_these = [] # ['Federated Averaging', 'Gradient Averaging', 'Probabilistic Federated Neural Matching', 'Zeno', 'Shuffled Iterative Avg']\n",
    "\n",
    "plot_button = Button(\n",
    "        description='Show Charts',\n",
    "        disabled=False,\n",
    "        button_style='warning', # 'success', 'info', 'warning', 'danger' or ''\n",
    "        tooltip='Displays the various plots for the experiment that ran',\n",
    "        layout = Layout(width='120px', height='40px', margin='5px 50px 5px 400px') ## margin to position button centrally\n",
    "    )\n",
    "\n",
    "\n",
    "def invoke_runner():\n",
    "    monitoring_out = Output(layout={'border': '0.5px solid black'})\n",
    "    monitoring_box.children = [monitoring_out]\n",
    "    display(display_grid_2)\n",
    "\n",
    "    # some values needed by the Runner; there's only one trial for now\n",
    "    dashboard_ui.mgr.run_details['experiments'][0]['shuffle_party_machines'] = False\n",
    "    dashboard_ui.mgr.run_details['experiments'][0]['n_trials'] = 1\n",
    "    dashboard_ui.mgr.run_details['experiments'][0]['n_parties'] = dashboard_ui.mgr.nb_config['global']['num_parties']\n",
    "    dashboard_ui.mgr.run_details['experiments'][0]['n_rounds'] = dashboard_ui.mgr.nb_config['global']['rounds']\n",
    "\n",
    "    # values for postprocessing and showing default metrics\n",
    "    if dashboard_ui.mgr.nb_config['record_metrics']:\n",
    "        dashboard_ui.mgr.run_details['experiments'][0]['postproc_fn'] = {}\n",
    "        dashboard_ui.mgr.run_details['experiments'][0]['postproc_fn'] = 'gen_reward_vs_time_plots'\n",
    "        dashboard_ui.mgr.run_details['experiments'][0]['postproc_x_key'] = 'post_train:ts'\n",
    "        dashboard_ui.mgr.run_details['experiments'][0]['postproc_y_keys'] = ['post_train:eval:loss', 'post_train:eval:acc']\n",
    "        # , 'post_train:eval:precision weighted', 'post_train:eval:recall weighted']\n",
    "\n",
    "    exp_machines = exp_runner.convert_machine_dict_from_nb_to_cli(dashboard_ui.mgr.run_details['machines'])\n",
    "\n",
    "    for exp_info in dashboard_ui.mgr.run_details['experiments']:\n",
    "        with open('{}/config_agg.yml'.format(dashboard_ui.mgr.nb_config['local_conf_dir']), 'r') as config_agg_file:\n",
    "            config_agg = config_agg_file.read()\n",
    "        config_parties = []\n",
    "        for pi in range(exp_info['n_parties']):\n",
    "            with open('{}/config_party{}.yml'.format(dashboard_ui.mgr.nb_config['local_conf_dir'], pi), 'r') as config_party_file:\n",
    "                config_parties += [config_party_file.read()]\n",
    "        with monitoring_out:\n",
    "            display(exp_runner.run_experiment(exp_info, dashboard_ui.mgr.run_details['machines'],\n",
    "                                              config_agg, config_parties, ui_mode='nb', ts=dashboard_ui.mgr.nb_config['timestamp_str']) \\\n",
    "                    or 'Finished!')\n",
    "\n",
    "    if dashboard_ui.mgr.nb_config['record_metrics']:\n",
    "        if 'Keras' in dashboard_ui.mgr.nb_config['model'] and dashboard_ui.mgr.nb_config['fusion'] not in no_plots_for_these:\n",
    "            # only some Keras models have plots currently\n",
    "            monitoring_box.children = monitoring_box.children + (plot_button,)\n",
    "        else:\n",
    "            with monitoring_out:\n",
    "                display('Plots for chosen model/fusion algorithm are not supported yet') # metrics processing not in place\n",
    "    else:\n",
    "        with monitoring_out:\n",
    "            display('No metrics were recorded, so no plots to show')\n",
    "\n",
    "plots_box = VBox()\n",
    "\n",
    "def get_plots(b):\n",
    "    b.disabled = True\n",
    "    plots_out = Output(layout={'border': '0.5px solid black'})\n",
    "    plots_box.children = [plots_out]\n",
    "    display(display_grid_3)\n",
    "    # generate the plot(s)\n",
    "    with plots_out:\n",
    "        display(exp_info = exp_runner.call_postproc_fn())\n",
    "\n",
    "plot_button.on_click(get_plots)\n",
    "\n",
    "# grid for displaying progress of running experiment\n",
    "display_grid_2 = GridspecLayout(1,1)\n",
    "display_grid_2[0, :] = monitoring_box\n",
    "\n",
    "# grid for displaying charts from collected metrics\n",
    "display_grid_3 = GridspecLayout(1,1)\n",
    "display_grid_3[0, :] = plots_box\n",
    "\n",
    "invoke_runner()"
   ]
  },
  {
   "cell_type": "markdown",
   "metadata": {},
   "source": [
    "Timeout - before timeout all parties can upload to aggregator, after they cannot.\n",
    "\n",
    "Quorum - *minimum* percentage of parties the aggregator will wait for before aggregating. If less than minimum respond, we get a quorum exception.\n",
    "\n"
   ]
  },
  {
   "cell_type": "markdown",
   "metadata": {},
   "source": [
    "Next steps - How to design experiments and calculate sensitivity w.r.t.:\n",
    "\n",
    "\n",
    "- number of parties: could fix party dataset size or total dataset size\n",
    "\n",
    "- number of rounds vs number of epochs\n",
    "\n",
    "- try different models, keras vs pytorch\n",
    "\n",
    "- sampling\n",
    "\n",
    "- fusion algorithm: fed avg, iter avg, etc"
   ]
  },
  {
   "cell_type": "markdown",
   "metadata": {},
   "source": [
    "meet 1:30 3/29"
   ]
  },
  {
   "cell_type": "code",
   "execution_count": 18,
   "metadata": {},
   "outputs": [],
   "source": [
    "import yaml"
   ]
  },
  {
   "cell_type": "code",
   "execution_count": 19,
   "metadata": {},
   "outputs": [],
   "source": [
    "with open(\"../../global_config.yaml\", 'w') as out:\n",
    "    yaml.safe_dump(dashboard_ui.mgr.run_details, out, default_flow_style=False)"
   ]
  },
  {
   "cell_type": "code",
   "execution_count": 13,
   "metadata": {
    "scrolled": true
   },
   "outputs": [
    {
     "data": {
      "text/plain": [
       "{'machines': {'local0': {'ip_address': '127.0.0.1',\n",
       "   'port_number': 5000,\n",
       "   'ssh_username': 'trevormaxjs'},\n",
       "  'local1': {'ip_address': '127.0.0.1',\n",
       "   'port_number': 8085,\n",
       "   'ssh_username': 'trevormaxjs'},\n",
       "  'local2': {'ip_address': '127.0.0.1',\n",
       "   'port_number': 8086,\n",
       "   'ssh_username': 'trevormaxjs'},\n",
       "  'local3': {'ip_address': '127.0.0.1',\n",
       "   'port_number': 8087,\n",
       "   'ssh_username': 'trevormaxjs'},\n",
       "  'local4': {'ip_address': '127.0.0.1',\n",
       "   'port_number': 8088,\n",
       "   'ssh_username': 'trevormaxjs'},\n",
       "  'local5': {'ip_address': '127.0.0.1',\n",
       "   'port_number': 8089,\n",
       "   'ssh_username': 'trevormaxjs'},\n",
       "  'local6': {'ip_address': '127.0.0.1',\n",
       "   'port_number': 8090,\n",
       "   'ssh_username': 'trevormaxjs'},\n",
       "  'local7': {'ip_address': '127.0.0.1',\n",
       "   'port_number': 8091,\n",
       "   'ssh_username': 'trevormaxjs'},\n",
       "  'local8': {'ip_address': '127.0.0.1',\n",
       "   'port_number': 8092,\n",
       "   'ssh_username': 'trevormaxjs'},\n",
       "  'local9': {'ip_address': '127.0.0.1',\n",
       "   'port_number': 8093,\n",
       "   'ssh_username': 'trevormaxjs'},\n",
       "  'local10': {'ip_address': '127.0.0.1',\n",
       "   'port_number': 8094,\n",
       "   'ssh_username': 'trevormaxjs'},\n",
       "  'local11': {'ip_address': '127.0.0.1',\n",
       "   'port_number': 8095,\n",
       "   'ssh_username': 'trevormaxjs'},\n",
       "  'local12': {'ip_address': '127.0.0.1',\n",
       "   'port_number': 8096,\n",
       "   'ssh_username': 'trevormaxjs'},\n",
       "  'local13': {'ip_address': '127.0.0.1',\n",
       "   'port_number': 8097,\n",
       "   'ssh_username': 'trevormaxjs'},\n",
       "  'local14': {'ip_address': '127.0.0.1',\n",
       "   'port_number': 8098,\n",
       "   'ssh_username': 'trevormaxjs'},\n",
       "  'local15': {'ip_address': '127.0.0.1',\n",
       "   'port_number': 8099,\n",
       "   'ssh_username': 'trevormaxjs'},\n",
       "  'local16': {'ip_address': '127.0.0.1',\n",
       "   'port_number': 8100,\n",
       "   'ssh_username': 'trevormaxjs'},\n",
       "  'local17': {'ip_address': '127.0.0.1',\n",
       "   'port_number': 8101,\n",
       "   'ssh_username': 'trevormaxjs'},\n",
       "  'local18': {'ip_address': '127.0.0.1',\n",
       "   'port_number': 8102,\n",
       "   'ssh_username': 'trevormaxjs'},\n",
       "  'local19': {'ip_address': '127.0.0.1',\n",
       "   'port_number': 8103,\n",
       "   'ssh_username': 'trevormaxjs'},\n",
       "  'local20': {'ip_address': '127.0.0.1',\n",
       "   'port_number': 8104,\n",
       "   'ssh_username': 'trevormaxjs'},\n",
       "  'default': {'staging_dir': '/home/trevormaxjs/Documents/Engineering/Research',\n",
       "   'ibmfl_dir': '/home/trevormaxjs/Documents/Engineering/Research/ibmfl',\n",
       "   'venv_dir': '/home/trevormaxjs/Documents/Engineering/Research/venv',\n",
       "   'venv_uses_conda': False}},\n",
       " 'experiments': [{'local_staging_dir': '/home/trevormaxjs/Documents/Engineering/Research',\n",
       "   'local_ibmfl_dir': '/home/trevormaxjs/Documents/Engineering/Research/ibmfl',\n",
       "   'agg_machine': 'local0',\n",
       "   'party_machines': ['local1',\n",
       "    'local2',\n",
       "    'local3',\n",
       "    'local4',\n",
       "    'local5',\n",
       "    'local6',\n",
       "    'local7',\n",
       "    'local8',\n",
       "    'local9',\n",
       "    'local10',\n",
       "    'local11',\n",
       "    'local12',\n",
       "    'local13',\n",
       "    'local14',\n",
       "    'local15',\n",
       "    'local16',\n",
       "    'local17',\n",
       "    'local18',\n",
       "    'local19',\n",
       "    'local20'],\n",
       "   'shuffle_party_machines': False,\n",
       "   'n_trials': 1,\n",
       "   'n_parties': 20,\n",
       "   'n_rounds': 3,\n",
       "   'postproc_fn': 'gen_reward_vs_time_plots',\n",
       "   'postproc_x_key': 'post_train:ts',\n",
       "   'postproc_y_keys': ['post_train:eval:loss', 'post_train:eval:acc']}],\n",
       " 'isLocalRun': True}"
      ]
     },
     "execution_count": 13,
     "metadata": {},
     "output_type": "execute_result"
    }
   ],
   "source": [
    "dashboard_ui.mgr.run_details"
   ]
  }
 ],
 "metadata": {
  "kernelspec": {
   "display_name": "Python 3",
   "language": "python",
   "name": "python3"
  },
  "language_info": {
   "codemirror_mode": {
    "name": "ipython",
    "version": 3
   },
   "file_extension": ".py",
   "mimetype": "text/x-python",
   "name": "python",
   "nbconvert_exporter": "python",
   "pygments_lexer": "ipython3",
   "version": "3.6.13"
  },
  "toc": {
   "base_numbering": 1,
   "nav_menu": {},
   "number_sections": true,
   "sideBar": true,
   "skip_h1_title": false,
   "title_cell": "Table of Contents",
   "title_sidebar": "Contents",
   "toc_cell": false,
   "toc_position": {},
   "toc_section_display": true,
   "toc_window_display": false
  },
  "varInspector": {
   "cols": {
    "lenName": 16,
    "lenType": 16,
    "lenVar": 40
   },
   "kernels_config": {
    "python": {
     "delete_cmd_postfix": "",
     "delete_cmd_prefix": "del ",
     "library": "var_list.py",
     "varRefreshCmd": "print(var_dic_list())"
    },
    "r": {
     "delete_cmd_postfix": ") ",
     "delete_cmd_prefix": "rm(",
     "library": "var_list.r",
     "varRefreshCmd": "cat(var_dic_list()) "
    }
   },
   "types_to_exclude": [
    "module",
    "function",
    "builtin_function_or_method",
    "instance",
    "_Feature"
   ],
   "window_display": false
  },
  "vscode": {
   "interpreter": {
    "hash": "1102396aa367ac430cfe547048227fa99bfc8ceecaaf4485a497ad9ad2194ad5"
   }
  }
 },
 "nbformat": 4,
 "nbformat_minor": 4
}
